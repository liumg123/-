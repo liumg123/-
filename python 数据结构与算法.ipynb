{
 "cells": [
  {
   "cell_type": "markdown",
   "metadata": {},
   "source": [
    "## 栈的实现"
   ]
  },
  {
   "cell_type": "code",
   "execution_count": 12,
   "metadata": {},
   "outputs": [
    {
     "name": "stdout",
     "output_type": "stream",
     "text": [
      "s.pop() 4\n"
     ]
    }
   ],
   "source": [
    "#coding:utf-8\n",
    "#栈的实现\n",
    "class Stack(object):\n",
    "    \"\"\"栈\"\"\"\n",
    "    def __init__(self):\n",
    "        self.__list=[]\n",
    "        \n",
    "    def push(self,item):\n",
    "        \"\"\"添加一个新元素item到栈顶\"\"\"\n",
    "        self.__list.append(item)#尾部添加，时间复杂度O(1)\n",
    "#         self.__list.insert(0,item)头部添加，时间复杂度O(n)\n",
    "#         pass\n",
    "\n",
    "    def pop(self):\n",
    "        \"\"\"弹出栈顶元素\"\"\"\n",
    "        return self.__list.pop()\n",
    "#         pass\n",
    "\n",
    "    def peek(self):\n",
    "        \"\"\"返回栈顶元素\"\"\"\n",
    "        if self.__list:\n",
    "            return self.__list[-1]\n",
    "        else:\n",
    "            return None\n",
    "#         pass\n",
    "\n",
    "    def is_empty(self):\n",
    "        \"\"\"判断栈顶是否为空\"\"\"\n",
    "        return self.__list==[]\n",
    "    \n",
    "    def size(self):\n",
    "        \"\"\"返回栈的元素个数\"\"\"\n",
    "        return len(self.__list)\n",
    "        \n",
    "if __name__=='__main__':\n",
    "    s=Stack()\n",
    "    s.push(1)\n",
    "    s.push(2)\n",
    "    s.push(3)\n",
    "    s.push(4)\n",
    "    print('s.pop()',s.pop())"
   ]
  },
  {
   "cell_type": "markdown",
   "metadata": {},
   "source": [
    "## 队列的实现"
   ]
  },
  {
   "cell_type": "code",
   "execution_count": 15,
   "metadata": {},
   "outputs": [
    {
     "name": "stdout",
     "output_type": "stream",
     "text": [
      "s.dequeue() 1\n"
     ]
    }
   ],
   "source": [
    "#coding:utf-8\n",
    "#队列的实现\n",
    "class Quene(object):\n",
    "    \"\"\"队列\"\"\"\n",
    "    def __init__(self):\n",
    "        self.__list=[]\n",
    "        \n",
    "    def enqueue(self,item):\n",
    "        \"\"\"往队列中添加一个元素\"\"\"\n",
    "        self.__list.append(item)#入队频繁\n",
    "#         self.__list.insert(0,item)\n",
    "    \n",
    "    def dequeue(self):\n",
    "        \"\"\"从队列头部删除一个元素\"\"\"\n",
    "        return self.__list.pop(0)\n",
    "#         return self.pop()#出队频繁\n",
    "    def is_empty(self):\n",
    "        return self.__list==[]\n",
    "    def size(self):\n",
    "        \"\"\"返回队列的大小\"\"\"\n",
    "        return len(self.__list)\n",
    "        \n",
    "if __name__=='__main__':\n",
    "    s=Quene()\n",
    "    s.enqueue(1)\n",
    "    s.enqueue(2)\n",
    "    s.enqueue(3)\n",
    "    s.enqueue(4)\n",
    "    print('s.dequeue()',s.dequeue())"
   ]
  },
  {
   "cell_type": "markdown",
   "metadata": {},
   "source": [
    "## 双端队列的实现"
   ]
  },
  {
   "cell_type": "code",
   "execution_count": 26,
   "metadata": {},
   "outputs": [
    {
     "name": "stdout",
     "output_type": "stream",
     "text": [
      "s.pop_front() 4\n"
     ]
    }
   ],
   "source": [
    "#coding:utf-8\n",
    "#双端队列的实现\n",
    "class DeQueue(object):\n",
    "    \"\"\"双端队列\"\"\"\n",
    "    def __init__(self):\n",
    "        self.__list=[]\n",
    "        \n",
    "    def add_front(self,item):\n",
    "        \"\"\"往队列中添加一个元素\"\"\"\n",
    "        self.__list.insert(0,item)\n",
    "        \n",
    "    def add_rear(self,item):\n",
    "        \"\"\"从队列尾部添加一个元素\"\"\"\n",
    "        self.__list.append(item)\n",
    "        \n",
    "    def pop_front(self):\n",
    "        \"\"\"从队列头部删除一个元素\"\"\"\n",
    "        return self.__list.pop(0)\n",
    "    \n",
    "    def pop_rear(self):\n",
    "        \"\"\"从队列尾部删除一个元素\"\"\"\n",
    "        return self.__list.pop()\n",
    "\n",
    "    def is_empty(self):\n",
    "        return self.__list==[]\n",
    "    \n",
    "    def size(self):\n",
    "        \"\"\"返回队列的大小\"\"\"\n",
    "        return len(self.__list)\n",
    "if __name__=='__main__':\n",
    "    s=DeQueue()\n",
    "    s.add_front(1)\n",
    "    s.add_front(2)\n",
    "    s.add_rear(3)\n",
    "    s.add_rear(4)\n",
    "    print('s.pop_front()',s.pop_rear())"
   ]
  },
  {
   "cell_type": "code",
   "execution_count": 31,
   "metadata": {},
   "outputs": [],
   "source": [
    "#coding:utf-8\n",
    "#链表的实现\n",
    "a=10\n",
    "b=20\n",
    "a,b=b,a\n",
    "a,b=20,10\n",
    "a,b\n",
    "def f():\n",
    "    pass\n",
    "a=f\n"
   ]
  },
  {
   "cell_type": "markdown",
   "metadata": {},
   "source": [
    "## 单链表的实现"
   ]
  },
  {
   "cell_type": "code",
   "execution_count": 2,
   "metadata": {},
   "outputs": [
    {
     "name": "stdout",
     "output_type": "stream",
     "text": [
      "True\n",
      "0\n",
      "False\n",
      "1\n",
      "88 9999 100 1 2 4 3 6 34 \n",
      "None\n"
     ]
    }
   ],
   "source": [
    "#coding:utf-8\n",
    "class Node(object):\n",
    "    \"\"\"结点\"\"\"\n",
    "    def __init__(self,elem):\n",
    "        self.elem=elem\n",
    "        self.next=None\n",
    "\n",
    "class SingleLinkList(object):\n",
    "    \"\"\"单链表\"\"\"\n",
    "    def __init__(self,node=None):\n",
    "        self.__head=node\n",
    "#         node=Node()\n",
    "#         pass\n",
    "    def is_empty(self):\n",
    "        \"\"\"链表是否为空\"\"\"\n",
    "        return self.__head==None\n",
    "        \n",
    "    def length(self):\n",
    "        \"\"\"链表长度\"\"\"\n",
    "        #cur游标，用来移动遍历结点\n",
    "        cur=self.__head\n",
    "        #count 记录数据\n",
    "        count=0\n",
    "#         count=1#不能处理空链表\n",
    "#         while cur.next!=None:\n",
    "#             count+=1\n",
    "#             cur=cur.nrxt\n",
    "        while cur!=None:\n",
    "            count+=1\n",
    "            cur=cur.next\n",
    "        return count\n",
    "                \n",
    "        \n",
    "    def travel(self):\n",
    "        \"\"\"遍历整个链表\"\"\"\n",
    "        cur=self.__head\n",
    "        while cur != None:\n",
    "            print(cur.elem,end=' ')\n",
    "            cur=cur.next\n",
    "        print(\"\")\n",
    "\n",
    "            \n",
    "    def add(self,item):\n",
    "        \"\"\"链表头部添加元素，头插法,O(1)\"\"\"\n",
    "        node=Node(item)\n",
    "        node.next=self.__head\n",
    "        self.__head=node\n",
    "       \n",
    "        \n",
    "        \n",
    "    def append(self,item):\n",
    "        \"\"\"链表尾部添加元素,尾插法,O(n)\"\"\"\n",
    "        node=Node(item)\n",
    "        if  self.is_empty():\n",
    "            self.__head=node\n",
    "        else:\n",
    "            cur=self.__head\n",
    "            while cur.next!=None:\n",
    "                cur=cur.next\n",
    "            cur.next=node\n",
    "        \n",
    "    def insert(self,pos,item):\n",
    "        \"\"\"指定位置添加元素\n",
    "        :param pos从0开始\n",
    "        O(n)\n",
    "        \"\"\"\n",
    "        if pos <= 0:#pos小于等于0，认为是头插法\n",
    "            self.add(item)\n",
    "        elif pos >self.length()-1:\n",
    "            self.append(item)\n",
    "        else:\n",
    "            node=Node(item)\n",
    "            pre=self.__head\n",
    "            count=0\n",
    "            while count<(pos-1):\n",
    "                count+=1\n",
    "                pre=pre.next\n",
    "            #当循环推出后，pre指向pos-1位置\n",
    "            node.next=pre.next\n",
    "            pre.next=node\n",
    "        \n",
    "    def remove(self,item):\n",
    "        \"\"\"删除结点\"\"\"\n",
    "        pre=None\n",
    "        cur=self.__head\n",
    "        while cur!=None:\n",
    "            if cur.elem==item:\n",
    "                #先判断此结点是否是头结点，如果是头结点的话\n",
    "                if cur==self.__head:#pre==None\n",
    "                    self.__head=cur.next\n",
    "                else:\n",
    "                    pre.next=cur.next\n",
    "                break\n",
    "            else:\n",
    "                pre=cur\n",
    "                cur=cur.next\n",
    "            \n",
    "        \n",
    "        \n",
    "    def search(self,item):\n",
    "        \"\"\"查找结点是否存在\"\"\"\n",
    "        cur=self.__head\n",
    "        while cur!=None: \n",
    "            if cur.elem==item:\n",
    "                return True\n",
    "            else:\n",
    "                cur=cur.next\n",
    "        return False\n",
    "                   \n",
    "        \n",
    "    \n",
    "\n",
    "if __name__=='__main__':\n",
    "    ll=SingleLinkList()\n",
    "    print(ll.is_empty())\n",
    "    print(ll.length())\n",
    "    \n",
    "    ll.append(1)\n",
    "    print(ll.is_empty())\n",
    "    print(ll.length())\n",
    "    ll.append(2)\n",
    "    ll.add(9999)\n",
    "    ll.append(3)\n",
    "    ll.append(4)\n",
    "    ll.append(3)\n",
    "    ll.append(6)\n",
    "    ll.insert(-1,88)\n",
    "    ll.insert(2,100)\n",
    "    ll.insert(20,34)\n",
    "    ll.remove(3)\n",
    "    print(ll.travel())\n",
    "    "
   ]
  },
  {
   "cell_type": "markdown",
   "metadata": {},
   "source": [
    "## 单向循环链表的实现"
   ]
  },
  {
   "cell_type": "code",
   "execution_count": 36,
   "metadata": {},
   "outputs": [
    {
     "name": "stdout",
     "output_type": "stream",
     "text": [
      "True\n",
      "0\n",
      "False\n",
      "1\n",
      "9 8 1 2 3 4 5 6\n",
      "9 8 1 100 2 3 4 5 6\n",
      "9 8 1 100 2 3 4 5 6 200\n",
      "9 8 1 2 3 4 5 6 200\n",
      "8 1 2 3 4 5 6 200\n",
      "8 1 2 3 4 5 6\n"
     ]
    }
   ],
   "source": [
    "#coding:utf-8\n",
    "#单向循环链表\n",
    "class Node(object):\n",
    "    \"\"\"节点\"\"\"\n",
    "    def __init__(self,elem):\n",
    "        self.elem=elem\n",
    "        self.next=None\n",
    "class SinCycLinkedlist(object):\n",
    "    \"\"\"单向循环链表\"\"\"\n",
    "    def __init__(self,node=None):\n",
    "        self.__head=node\n",
    "        if node:\n",
    "            node.next=node\n",
    "\n",
    "    \n",
    "    def is_empty(self):\n",
    "        \"\"\"判断链表是否为空\"\"\"\n",
    "        return self.__head==None\n",
    "\n",
    "    def length(self):\n",
    "        \"\"\"返回链表的长度\"\"\"\n",
    "        #cur游标，用来移动遍历结点\n",
    "        cur=self.__head\n",
    "        #count 记录数据\n",
    "        if self.is_empty():\n",
    "            return 0\n",
    "        else:\n",
    "            count=1\n",
    "            while cur.next!=self.__head:\n",
    "                count+=1\n",
    "                cur=cur.next\n",
    "            return count\n",
    "        \n",
    "    def travel(self):\n",
    "        \"\"\"遍历\"\"\"\n",
    "        if self.is_empty():\n",
    "            return \n",
    "        cur=self.__head\n",
    "        while cur.next!=self.__head:\n",
    "            print(cur.elem,end=' ')\n",
    "            cur=cur.next\n",
    "        #退出循环，cur指向尾结点，但尾结点的元素未打印\n",
    "        print(cur.elem)\n",
    "    def add(self,item):\n",
    "        \"\"\"在头部添加一个元素\"\"\"\n",
    "        \n",
    "        node=Node(item)\n",
    "        if self.is_empty():\n",
    "            self.__head=node\n",
    "            node.next=node\n",
    "        else:\n",
    "            cur=self.__head\n",
    "            while  cur.next!=self.__head:\n",
    "                cur=cur.next\n",
    "            #退出循环，cur指向尾结点 \n",
    "            node.next=self.__head\n",
    "            self.__head=node\n",
    "            cur.next=self.__head\n",
    "\n",
    "    def append(self,item):\n",
    "        \"\"\"在尾部添加一个元素,尾插法\"\"\"\n",
    "        node=Node(item)\n",
    "        if self.is_empty():\n",
    "            self.__head=node\n",
    "            node.next=node\n",
    "        else:\n",
    "            cur=self.__head\n",
    "            while cur.next!=self.__head:\n",
    "                cur=cur.next\n",
    "            #node.next=cur.next\n",
    "            node.next=self.__head\n",
    "            \n",
    "            cur.next=node\n",
    "            \n",
    "    def insert(self,pos,item):\n",
    "        \"\"\"指定位置添加元素\n",
    "        :param pos从0开始\n",
    "        O(n)\n",
    "        \"\"\"\n",
    "        if pos <= 0:#pos小于等于0，认为是头插法\n",
    "            self.add(item)\n",
    "        elif pos >self.length()-1:\n",
    "            self.append(item)\n",
    "        else:\n",
    "            node=Node(item)\n",
    "            pre=self.__head\n",
    "            count=0\n",
    "            while count<(pos-1):\n",
    "                count+=1\n",
    "                pre=pre.next\n",
    "            #当循环推出后，pre指向pos-1位置\n",
    "            node.next=pre.next\n",
    "            pre.next=node\n",
    "        \n",
    "    def remove(self,item):\n",
    "        \"\"\"删除结点\"\"\"\n",
    "        if self.is_empty():\n",
    "            return \n",
    "        \n",
    "        pre=None\n",
    "        cur=self.__head\n",
    "        while cur.next!=self.__head:\n",
    "            if cur.elem==item:\n",
    "                #先判断此结点是否是头结点，如果是头结点的话\n",
    "                if cur==self.__head:#pre==None\n",
    "                    #头结点的情况\n",
    "                    #找尾结点\n",
    "                    rear=self.__head\n",
    "                    while rear.next!=self.__head:\n",
    "                        rear=rear.next\n",
    "                    self.__head = cur.next\n",
    "                    rear.next = self.__head\n",
    "                else:\n",
    "                    pre.next=cur.next\n",
    "              \n",
    "                return\n",
    "            else:\n",
    "                pre=cur\n",
    "                cur=cur.next\n",
    "        #退出循环，cur指向尾结点\n",
    "        if cur.elem==item:\n",
    "            if cur==self.__head:\n",
    "                #链表只有一个节点\n",
    "                self.__head=None\n",
    "            else:\n",
    "                 pre.next=self.__head\n",
    "            \n",
    "    def search(self,item):\n",
    "        \"\"\"查找结点是否存在\"\"\"\n",
    "        cur=self.__head\n",
    "        while cur!=self.__head: \n",
    "            if cur.elem==item:\n",
    "                return True\n",
    "            else:\n",
    "                cur=cur.next\n",
    "        if cur.elem==item:\n",
    "            return True\n",
    "        else:\n",
    "            return False\n",
    "\n",
    "\n",
    "if __name__=='__main__':\n",
    "    ll=SinCycLinkedlist()\n",
    "    print(ll.is_empty())\n",
    "    print(ll.length())\n",
    "\n",
    "    ll.append(1)\n",
    "    print(ll.is_empty())\n",
    "    print(ll.length())\n",
    "\n",
    "\n",
    "    ll.append(2)\n",
    "    ll.add(8)\n",
    "    ll.append(3)\n",
    "    ll.append(4)\n",
    "    ll.append(5)\n",
    "    ll.append(6)\n",
    "    # 8 1 2 3 4 5 6\n",
    "    ll.insert(-1, 9) # 9 8 1 23456\n",
    "    ll.travel()\n",
    "    ll.insert(3, 100) # 9 8 1 100 2 3456\n",
    "    ll.travel()\n",
    "    ll.insert(10, 200) # 9 8 1 100 23456 200\n",
    "    ll.travel()\n",
    "    ll.remove(100)\n",
    "    ll.travel()\n",
    "    ll.remove(9)\n",
    "    ll.travel()\n",
    "    ll.remove(200)\n",
    "    ll.travel()\n"
   ]
  },
  {
   "cell_type": "markdown",
   "metadata": {},
   "source": [
    "## 双向链表"
   ]
  },
  {
   "cell_type": "markdown",
   "metadata": {},
   "source": [
    "## 冒泡排序"
   ]
  },
  {
   "cell_type": "code",
   "execution_count": 65,
   "metadata": {},
   "outputs": [
    {
     "data": {
      "text/plain": [
       "[2, 3, 4, 4, 5, 6, 7, 8, 9]"
      ]
     },
     "execution_count": 65,
     "metadata": {},
     "output_type": "execute_result"
    }
   ],
   "source": [
    "#冒泡排序\n",
    "#稳定性：稳定\n",
    "def bubble_sort(alist):\n",
    "    for k in range(len(alist)-1):\n",
    "        count=0\n",
    "        for i in range(len(alist)-k-1):\n",
    "            j=i+1\n",
    "            if alist[i]>alist[j]:\n",
    "                count+=1\n",
    "                alist[j],alist[i]=alist[i],alist[j]\n",
    "        if count==0:#在某次过程中没有进行交换，序列有序的，退出\n",
    "            return alist\n",
    "    return alist\n",
    "bubble_sort([3,2,5,4,9,4,6,7,8])\n"
   ]
  },
  {
   "cell_type": "markdown",
   "metadata": {},
   "source": [
    "##  选择排序"
   ]
  },
  {
   "cell_type": "code",
   "execution_count": 11,
   "metadata": {},
   "outputs": [
    {
     "data": {
      "text/plain": [
       "[17, 20, 31, 44, 54, 55, 77, 93, 226]"
      ]
     },
     "execution_count": 11,
     "metadata": {},
     "output_type": "execute_result"
    }
   ],
   "source": [
    "\"\"\"\n",
    "选择排序（selection sort的工作原理是：首先在未排序的序列中找到最小（大）的元素，\n",
    "存到排序序列的起始位置，然后再从剩余未排序的元素中继续寻找最小（大）元素，\n",
    "然后放到已排序序列的末尾。以此类推，直到所有的元素均排序完毕。\n",
    "最优时间复杂度：O(n^2)\n",
    "最坏时间复杂度：O(n^2)\n",
    "稳定性：不稳定（考虑升序，含有相同的元素的时候）\n",
    "\"\"\"\n",
    "def select_sort(alist):\n",
    "    n=len(alist)\n",
    "    for i in range(n-1):\n",
    "        min_index=i\n",
    "        for j in range(i+1,n):\n",
    "            if alist[min_index]>alist[j]:\n",
    "                min_index=j\n",
    "        alist[i],alist[min_index]=alist[min_index],alist[i]\n",
    "    return alist\n",
    " \n",
    "ll=[3,2,5,4,9,4,6,7,8]    \n",
    "l1=[54,226,93,17,77,31,44,55,20]\n",
    "select_sort(l1)"
   ]
  },
  {
   "cell_type": "markdown",
   "metadata": {},
   "source": [
    "## 插入算法"
   ]
  },
  {
   "cell_type": "code",
   "execution_count": 26,
   "metadata": {},
   "outputs": [
    {
     "name": "stdout",
     "output_type": "stream",
     "text": [
      "[54, 226, 93, 17, 77, 31, 44, 55, 20]\n",
      "[54, 93, 226, 17, 77, 31, 44, 55, 20]\n",
      "[54, 93, 17, 226, 77, 31, 44, 55, 20]\n",
      "[54, 17, 93, 226, 77, 31, 44, 55, 20]\n",
      "[17, 54, 93, 226, 77, 31, 44, 55, 20]\n",
      "[17, 54, 93, 77, 226, 31, 44, 55, 20]\n",
      "[17, 54, 77, 93, 226, 31, 44, 55, 20]\n",
      "[17, 54, 77, 93, 31, 226, 44, 55, 20]\n",
      "[17, 54, 77, 31, 93, 226, 44, 55, 20]\n",
      "[17, 54, 31, 77, 93, 226, 44, 55, 20]\n",
      "[17, 31, 54, 77, 93, 226, 44, 55, 20]\n",
      "[17, 31, 54, 77, 93, 44, 226, 55, 20]\n",
      "[17, 31, 54, 77, 44, 93, 226, 55, 20]\n",
      "[17, 31, 54, 44, 77, 93, 226, 55, 20]\n",
      "[17, 31, 44, 54, 77, 93, 226, 55, 20]\n",
      "[17, 31, 44, 54, 77, 93, 55, 226, 20]\n",
      "[17, 31, 44, 54, 77, 55, 93, 226, 20]\n",
      "[17, 31, 44, 54, 55, 77, 93, 226, 20]\n",
      "[17, 31, 44, 54, 55, 77, 93, 20, 226]\n",
      "[17, 31, 44, 54, 55, 77, 20, 93, 226]\n",
      "[17, 31, 44, 54, 55, 20, 77, 93, 226]\n",
      "[17, 31, 44, 54, 20, 55, 77, 93, 226]\n",
      "[17, 31, 44, 20, 54, 55, 77, 93, 226]\n",
      "[17, 31, 20, 44, 54, 55, 77, 93, 226]\n"
     ]
    },
    {
     "data": {
      "text/plain": [
       "[17, 20, 31, 44, 54, 55, 77, 93, 226]"
      ]
     },
     "execution_count": 26,
     "metadata": {},
     "output_type": "execute_result"
    }
   ],
   "source": [
    "\"\"\"\n",
    "插入排序（英语：Insertion Sort）是一种简单直观的排序算法。它的工作原理是通过构建有序序列，\n",
    "对于未排序数据，在已排序序列中从后向前扫描，找到相应位置并插入。\n",
    "插入排序在实现上，在从后向前扫描过程中，需要反复把已排序元素逐步向后挪位，\n",
    "为最新元素提供插入空间。\n",
    "\"\"\"\n",
    "\"\"\"\n",
    "和选择排序的区别是，选择排序在未排序的序列选出第K小的元素，放到第K的位置，\n",
    "插入排序是和未排序的序列的第一个放到前面已排序序列的合适位置。\n",
    "\"\"\"\n",
    "def insert_sort(alist):\n",
    "    n=len(alist)\n",
    "    #从右边的无序序列中取出多少个\n",
    "    for i in range(0,n):\n",
    "        j=i\n",
    "        #把从右边取出的元素放入左边有序的序列中合适的位置\n",
    "        while j >0 :\n",
    "            if  alist[j]<alist[j-1]:\n",
    "                print(alist)\n",
    "                alist[j],alist[j-1]=alist[j-1],alist[j]\n",
    "            else:\n",
    "                break\n",
    "            j-=1\n",
    "#         alist[j+1]=alist[i]\n",
    "    return alist\n",
    "\n",
    "def insert_sort1(alist):\n",
    "    n=len(alist)\n",
    "    for i in range(1,n):\n",
    "        for j in range(i,0,-1):\n",
    "            if alist[j]<alist[j-1]:\n",
    "                alist[j],alist[j-1]=alist[j-1],alist[j]\n",
    "    return alist\n",
    "\n",
    "l1=[54,226,93,17,77,31,44,55,20]\n",
    "insert_sort(l1)\n",
    "# insert_sort1(l1)    "
   ]
  },
  {
   "cell_type": "markdown",
   "metadata": {},
   "source": [
    "##  希尔排序"
   ]
  },
  {
   "cell_type": "code",
   "execution_count": 6,
   "metadata": {},
   "outputs": [
    {
     "data": {
      "text/plain": [
       "[17, 20, 31, 44, 54, 55, 77, 93, 226]"
      ]
     },
     "execution_count": 6,
     "metadata": {},
     "output_type": "execute_result"
    }
   ],
   "source": [
    "def shell_sort(alist):\n",
    "    \"\"\"希尔排序\"\"\"\n",
    "    n=len(alist)\n",
    "    gap=n // 2#取折半\n",
    "    while gap>=1:\n",
    "    #插入算法与普通插入算法的区别就是gap的步长\n",
    "        for j in range(gap,n):\n",
    "            #j=[gap,gap+1,gap+2,gap+3,gap+4,......,n-1]\n",
    "            i=j\n",
    "            while i>0: \n",
    "                if alist[i]<alist[i-gap]:\n",
    "                    alist[i],alist[i-gap]=alist[i-gap],alist[i]\n",
    "                    i-=gap\n",
    "                else:\n",
    "                    break\n",
    "        #缩短gap步长\n",
    "        gap//=2\n",
    "    return alist\n",
    "l1=[54,226,93,17,77,31,44,55,20]\n",
    "shell_sort(l1)\n",
    "    "
   ]
  },
  {
   "cell_type": "markdown",
   "metadata": {},
   "source": [
    "## 快速排序"
   ]
  },
  {
   "cell_type": "code",
   "execution_count": 49,
   "metadata": {},
   "outputs": [
    {
     "name": "stdout",
     "output_type": "stream",
     "text": [
      "[16, 25, 0, 8, 13, 10, 7, 27, 86, 64, 88, 99, 90, 100]\n",
      "[10, 7, 0, 8, 13, 16, 25, 27, 86, 64, 88, 99, 90, 100]\n",
      "[8, 7, 0, 10, 13, 16, 25, 27, 86, 64, 88, 99, 90, 100]\n",
      "[0, 7, 8, 10, 13, 16, 25, 27, 86, 64, 88, 99, 90, 100]\n",
      "[0, 7, 8, 10, 13, 16, 25, 27, 86, 64, 88, 99, 90, 100]\n",
      "[0, 7, 8, 10, 13, 16, 25, 27, 64, 86, 88, 99, 90, 100]\n",
      "[0, 7, 8, 10, 13, 16, 25, 27, 64, 86, 88, 99, 90, 100]\n",
      "[0, 7, 8, 10, 13, 16, 25, 27, 64, 86, 88, 90, 99, 100]\n"
     ]
    },
    {
     "data": {
      "text/plain": [
       "[0, 7, 8, 10, 13, 16, 25, 27, 64, 86, 88, 90, 99, 100]"
      ]
     },
     "execution_count": 49,
     "metadata": {},
     "output_type": "execute_result"
    }
   ],
   "source": [
    "\"\"\"\n",
    "low\n",
    "\"\"\"\n",
    "def quick_sort(alist,start,end):\n",
    "    \"\"\"快速排序\"\"\"\n",
    "    if start>=end:\n",
    "        return \n",
    "    low,high=start,end\n",
    "    mid_value=alist[start]\n",
    "    while low<high:\n",
    "        #high左移，停止的条件是比基准元素小\n",
    "        while low<high and alist[high]>mid_value:\n",
    "            high-=1        \n",
    "        #low 右移，停止的条件是比基准元素大\n",
    "        while low<high and alist[low]<=mid_value:\n",
    "            low+=1\n",
    "        #交换逆序对\n",
    "        alist[low],alist[high]=alist[high],alist[low]    \n",
    "    #从循环退出时，low=high\n",
    "    #把第一个元素放到合适的位置（此时的low的位置），交换位置\n",
    "    alist[low],alist[start]=mid_value,alist[low]\n",
    "    print(alist)\n",
    "    quick_sort(alist,start,low-1)\n",
    "    quick_sort(alist,low+1,end)\n",
    "    \n",
    "    return alist\n",
    "l1=[54,226,93,17,77,31,44,55,20]\n",
    "l2=[27,99,0,8,13,64,86,16,7,10,88,25,90,100]\n",
    "\n",
    "quick_sort(l2,0,len(l2)-1)"
   ]
  },
  {
   "cell_type": "code",
   "execution_count": 42,
   "metadata": {},
   "outputs": [
    {
     "name": "stdout",
     "output_type": "stream",
     "text": [
      "[16, 25, 0, 8, 13, 10, 7, 27, 86, 64, 88, 99, 90, 100]\n",
      "[10, 7, 0, 8, 13, 16, 25, 27, 86, 64, 88, 99, 90, 100]\n",
      "[8, 7, 0, 10, 13, 16, 25, 27, 86, 64, 88, 99, 90, 100]\n",
      "[0, 7, 8, 10, 13, 16, 25, 27, 86, 64, 88, 99, 90, 100]\n",
      "[0, 7, 8, 10, 13, 16, 25, 27, 86, 64, 88, 99, 90, 100]\n",
      "[0, 7, 8, 10, 13, 16, 25, 27, 64, 86, 88, 99, 90, 100]\n",
      "[0, 7, 8, 10, 13, 16, 25, 27, 64, 86, 88, 99, 90, 100]\n",
      "[0, 7, 8, 10, 13, 16, 25, 27, 64, 86, 88, 90, 99, 100]\n"
     ]
    },
    {
     "data": {
      "text/plain": [
       "[0, 7, 8, 10, 13, 16, 25, 27, 64, 86, 88, 90, 99, 100]"
      ]
     },
     "execution_count": 42,
     "metadata": {},
     "output_type": "execute_result"
    }
   ],
   "source": [
    "def quick_sort1(R,m,n):\n",
    "    if m<n:\n",
    "        i=m\n",
    "        j=n+1\n",
    "        min_value=R[m]\n",
    "        while i<j:\n",
    "            i+=1\n",
    "            while R[i]<min_value:\n",
    "                i+=1\n",
    "            j-=1\n",
    "            while R[j]>min_value:\n",
    "                j-=1\n",
    "            if i<j :\n",
    "                R[i],R[j]=R[j],R[i]\n",
    "        R[m],R[j]=R[j],R[m]\n",
    "        print(R)\n",
    "        quick_sort1(R,m,j-1)\n",
    "        quick_sort1(R,j+1,n)\n",
    "    return R\n",
    "l2=[27,99,0,8,13,64,86,16,7,10,88,25,90,100]\n",
    "\n",
    "quick_sort1(l2,0,len(l2)-1)"
   ]
  },
  {
   "cell_type": "code",
   "execution_count": 45,
   "metadata": {},
   "outputs": [
    {
     "name": "stdout",
     "output_type": "stream",
     "text": [
      "[16, 25, 0, 8, 13, 10, 7, 27, 86, 64, 88, 99, 90, 100]\n",
      "[10, 7, 0, 8, 13, 16, 25, 27, 86, 64, 88, 99, 90, 100]\n",
      "[8, 7, 0, 10, 13, 16, 25, 27, 86, 64, 88, 99, 90, 100]\n",
      "[0, 7, 8, 10, 13, 16, 25, 27, 86, 64, 88, 99, 90, 100]\n",
      "[0, 7, 8, 10, 13, 16, 25, 27, 86, 64, 88, 99, 90, 100]\n",
      "[0, 7, 8, 10, 13, 16, 25, 27, 86, 64, 88, 99, 90, 100]\n",
      "[0, 7, 8, 10, 13, 16, 25, 27, 86, 64, 88, 99, 90, 100]\n",
      "[0, 7, 8, 10, 13, 16, 25, 27, 86, 64, 88, 99, 90, 100]\n",
      "[0, 7, 8, 10, 13, 16, 25, 27, 64, 86, 88, 99, 90, 100]\n",
      "[0, 7, 8, 10, 13, 16, 25, 27, 64, 86, 88, 99, 90, 100]\n",
      "[0, 7, 8, 10, 13, 16, 25, 27, 64, 86, 88, 99, 90, 100]\n",
      "[0, 7, 8, 10, 13, 16, 25, 27, 64, 86, 88, 90, 99, 100]\n",
      "[0, 7, 8, 10, 13, 16, 25, 27, 64, 86, 88, 90, 99, 100]\n",
      "[0, 7, 8, 10, 13, 16, 25, 27, 64, 86, 88, 90, 99, 100]\n"
     ]
    },
    {
     "data": {
      "text/plain": [
       "[0, 7, 8, 10, 13, 16, 25, 27, 64, 86, 88, 90, 99, 100]"
      ]
     },
     "execution_count": 45,
     "metadata": {},
     "output_type": "execute_result"
    }
   ],
   "source": [
    "def quick_sort(array):\n",
    "    def recursive(begin, end):\n",
    "        if begin > end:\n",
    "            return\n",
    "        l, r = begin, end\n",
    "        pivot = array[l]\n",
    "        while l < r:\n",
    "            while l < r and array[r] > pivot:\n",
    "                r -= 1\n",
    "            while l < r and array[l] <= pivot:\n",
    "                l += 1\n",
    "            array[l], array[r] = array[r], array[l]\n",
    "        array[l], array[begin] = pivot, array[l]\n",
    "        print(array)\n",
    "        recursive(begin, l - 1)\n",
    "        recursive(r + 1, end)\n",
    "\n",
    "    recursive(0, len(array) - 1)\n",
    "    return array\n",
    "l2=[27,99,0,8,13,64,86,16,7,10,88,25,90,100]\n",
    "\n",
    "quick_sort(l2)"
   ]
  },
  {
   "cell_type": "markdown",
   "metadata": {},
   "source": [
    "## 归并排序"
   ]
  },
  {
   "cell_type": "code",
   "execution_count": 67,
   "metadata": {},
   "outputs": [
    {
     "name": "stdout",
     "output_type": "stream",
     "text": [
      "[0, 7, 8, 10, 13, 16, 17, 20, 25, 27, 31, 44, 54, 55, 64, 77, 86, 88, 90, 93, 99, 100, 226]\n"
     ]
    }
   ],
   "source": [
    "def merge_sort(alist):\n",
    "    \"\"\"归并排序\"\"\"\n",
    "    if len(alist)==1:\n",
    "        return alist\n",
    "    num=len(alist)//2\n",
    "    left=merge_sort(alist[:num])\n",
    "    right=merge_sort(alist[num:])\n",
    "    #left和right都是有序的\n",
    "    return merge(left,right)\n",
    "def merge(left,right):\n",
    "    l,r=0,0\n",
    "    result=[]\n",
    "    while l<len(left) and r<len(right):\n",
    "        if left[l]<right[r]:\n",
    "            result.append(left[l])\n",
    "            l+=1\n",
    "        else:\n",
    "            result.append(right[r])\n",
    "            r+=1\n",
    "#     print(result)\n",
    "    result+=left[l:]\n",
    "    result+=right[r:]\n",
    "    return result\n",
    "l1=[27,54,226,93,17,77,31,44,55,20]\n",
    "l2=[27,99,0,8,13,64,86,16,7,10,88,25,90,100]\n",
    "print(merge_sort(list(set(l1+l2))))\n",
    "# merge(l1,l2)"
   ]
  },
  {
   "cell_type": "code",
   "execution_count": 66,
   "metadata": {},
   "outputs": [
    {
     "name": "stdout",
     "output_type": "stream",
     "text": [
      "[0, 7, 8, 10, 13, 16, 17, 20, 25, 27, 31, 44, 54, 55, 64, 77, 86, 88, 90, 93, 99, 100, 226]\n"
     ]
    }
   ],
   "source": [
    "def merge_sort(alist):\n",
    "    \"\"\"归并排序\"\"\"\n",
    "    if len(alist)==1:\n",
    "        return alist\n",
    "    num=len(alist)//2\n",
    "    left=merge_sort(alist[:num])\n",
    "    right=merge_sort(alist[num:])\n",
    "    #left和right都是有序的\n",
    "    l,r=0,0\n",
    "    result=[]\n",
    "    while l<len(left) and r<len(right):\n",
    "        if left[l]<right[r]:\n",
    "            result.append(left[l])\n",
    "            l+=1\n",
    "        else:\n",
    "            result.append(right[r])\n",
    "            r+=1\n",
    "#     print(result)\n",
    "    result+=left[l:]\n",
    "    result+=right[r:]\n",
    "    return result\n",
    "#     return merge(left,right)\n",
    "def merge(left,right):\n",
    "    l,r=0,0\n",
    "    result=[]\n",
    "    while l<len(left) and r<len(right):\n",
    "        if left[l]<right[r]:\n",
    "            result.append(left[l])\n",
    "            l+=1\n",
    "        else:\n",
    "            result.append(right[r])\n",
    "            r+=1\n",
    "#     print(result)\n",
    "    result+=left[l:]\n",
    "    result+=right[r:]\n",
    "    return result\n",
    "l1=[27,54,226,93,17,77,31,44,55,20]\n",
    "l2=[27,99,0,8,13,64,86,16,7,10,88,25,90,100]\n",
    "r=merge_sort(list(set(l1+l2)))\n",
    "print(r)\n",
    "# merge(l1,l2)"
   ]
  },
  {
   "cell_type": "markdown",
   "metadata": {},
   "source": [
    "## 堆排序"
   ]
  },
  {
   "cell_type": "code",
   "execution_count": 62,
   "metadata": {},
   "outputs": [
    {
     "data": {
      "text/plain": [
       "[17, 20, 27, 31, 44, 54, 55, 77, 93, 226]"
      ]
     },
     "execution_count": 62,
     "metadata": {},
     "output_type": "execute_result"
    }
   ],
   "source": [
    "def heap_sort(array):\n",
    "    def heap_adjust(parent):\n",
    "        child = 2 * parent + 1  # left child\n",
    "        while child < len(heap):\n",
    "            if child + 1 < len(heap):\n",
    "                if heap[child + 1] > heap[child]:\n",
    "                    child += 1  # right child\n",
    "            if heap[parent] >= heap[child]:\n",
    "                break\n",
    "            heap[parent], heap[child] = \\\n",
    "                heap[child], heap[parent]\n",
    "            parent, child = child, 2 * child + 1\n",
    "\n",
    "    heap, array = array.copy(), []\n",
    "    for i in range(len(heap) // 2, -1, -1):\n",
    "        heap_adjust(i)\n",
    "    while len(heap) != 0:\n",
    "        heap[0], heap[-1] = heap[-1], heap[0]\n",
    "        array.insert(0, heap.pop())\n",
    "        heap_adjust(0)\n",
    "    return array\n",
    "l1=[27,54,226,93,17,77,31,44,55,20]\n",
    "l2=[27,99,0,8,13,64,86,16,7,10,88,25,90,100]\n",
    "heap_sort(l1)"
   ]
  },
  {
   "cell_type": "code",
   "execution_count": 16,
   "metadata": {},
   "outputs": [
    {
     "ename": "KeyboardInterrupt",
     "evalue": "",
     "output_type": "error",
     "traceback": [
      "\u001b[1;31m---------------------------------------------------------------------------\u001b[0m",
      "\u001b[1;31mKeyboardInterrupt\u001b[0m                         Traceback (most recent call last)",
      "\u001b[1;32m<ipython-input-16-29fe406a1245>\u001b[0m in \u001b[0;36m<module>\u001b[1;34m\u001b[0m\n\u001b[0;32m     31\u001b[0m \u001b[0ml1\u001b[0m\u001b[1;33m=\u001b[0m\u001b[1;33m[\u001b[0m\u001b[1;36m27\u001b[0m\u001b[1;33m,\u001b[0m\u001b[1;36m54\u001b[0m\u001b[1;33m,\u001b[0m\u001b[1;36m226\u001b[0m\u001b[1;33m,\u001b[0m\u001b[1;36m93\u001b[0m\u001b[1;33m,\u001b[0m\u001b[1;36m17\u001b[0m\u001b[1;33m,\u001b[0m\u001b[1;36m77\u001b[0m\u001b[1;33m,\u001b[0m\u001b[1;36m31\u001b[0m\u001b[1;33m,\u001b[0m\u001b[1;36m44\u001b[0m\u001b[1;33m,\u001b[0m\u001b[1;36m55\u001b[0m\u001b[1;33m,\u001b[0m\u001b[1;36m20\u001b[0m\u001b[1;33m]\u001b[0m\u001b[1;33m\u001b[0m\u001b[1;33m\u001b[0m\u001b[0m\n\u001b[0;32m     32\u001b[0m \u001b[0ml2\u001b[0m\u001b[1;33m=\u001b[0m\u001b[1;33m[\u001b[0m\u001b[1;36m27\u001b[0m\u001b[1;33m,\u001b[0m\u001b[1;36m99\u001b[0m\u001b[1;33m,\u001b[0m\u001b[1;36m0\u001b[0m\u001b[1;33m,\u001b[0m\u001b[1;36m8\u001b[0m\u001b[1;33m,\u001b[0m\u001b[1;36m13\u001b[0m\u001b[1;33m,\u001b[0m\u001b[1;36m64\u001b[0m\u001b[1;33m,\u001b[0m\u001b[1;36m86\u001b[0m\u001b[1;33m,\u001b[0m\u001b[1;36m16\u001b[0m\u001b[1;33m,\u001b[0m\u001b[1;36m7\u001b[0m\u001b[1;33m,\u001b[0m\u001b[1;36m10\u001b[0m\u001b[1;33m,\u001b[0m\u001b[1;36m88\u001b[0m\u001b[1;33m,\u001b[0m\u001b[1;36m25\u001b[0m\u001b[1;33m,\u001b[0m\u001b[1;36m90\u001b[0m\u001b[1;33m,\u001b[0m\u001b[1;36m100\u001b[0m\u001b[1;33m]\u001b[0m\u001b[1;33m\u001b[0m\u001b[1;33m\u001b[0m\u001b[0m\n\u001b[1;32m---> 33\u001b[1;33m \u001b[0mheap_sort\u001b[0m\u001b[1;33m(\u001b[0m\u001b[0ml1\u001b[0m\u001b[1;33m,\u001b[0m\u001b[0mlen\u001b[0m\u001b[1;33m(\u001b[0m\u001b[0ml1\u001b[0m\u001b[1;33m)\u001b[0m\u001b[1;33m)\u001b[0m\u001b[1;33m\u001b[0m\u001b[1;33m\u001b[0m\u001b[0m\n\u001b[0m",
      "\u001b[1;32m<ipython-input-16-29fe406a1245>\u001b[0m in \u001b[0;36mheap_sort\u001b[1;34m(alist, n)\u001b[0m\n\u001b[0;32m      5\u001b[0m     \u001b[1;31m#初始建堆\u001b[0m\u001b[1;33m\u001b[0m\u001b[1;33m\u001b[0m\u001b[1;33m\u001b[0m\u001b[0m\n\u001b[0;32m      6\u001b[0m     \u001b[1;32mfor\u001b[0m \u001b[0mi\u001b[0m \u001b[1;32min\u001b[0m \u001b[0mrange\u001b[0m\u001b[1;33m(\u001b[0m\u001b[0mn\u001b[0m\u001b[1;33m//\u001b[0m\u001b[1;36m2\u001b[0m\u001b[1;33m,\u001b[0m\u001b[1;36m1\u001b[0m\u001b[1;33m,\u001b[0m\u001b[1;33m-\u001b[0m\u001b[1;36m1\u001b[0m\u001b[1;33m)\u001b[0m\u001b[1;33m:\u001b[0m\u001b[1;33m\u001b[0m\u001b[1;33m\u001b[0m\u001b[0m\n\u001b[1;32m----> 7\u001b[1;33m         \u001b[0mRestore\u001b[0m\u001b[1;33m(\u001b[0m\u001b[0malist\u001b[0m\u001b[1;33m,\u001b[0m\u001b[0mi\u001b[0m\u001b[1;33m,\u001b[0m\u001b[0mn\u001b[0m\u001b[1;33m)\u001b[0m\u001b[1;33m\u001b[0m\u001b[1;33m\u001b[0m\u001b[0m\n\u001b[0m\u001b[0;32m      8\u001b[0m     \u001b[1;31m#排序\u001b[0m\u001b[1;33m\u001b[0m\u001b[1;33m\u001b[0m\u001b[1;33m\u001b[0m\u001b[0m\n\u001b[0;32m      9\u001b[0m     \u001b[1;32mfor\u001b[0m \u001b[0mi\u001b[0m \u001b[1;32min\u001b[0m \u001b[0mrange\u001b[0m\u001b[1;33m(\u001b[0m\u001b[0mn\u001b[0m\u001b[1;33m,\u001b[0m\u001b[1;36m2\u001b[0m\u001b[1;33m,\u001b[0m\u001b[1;33m-\u001b[0m\u001b[1;36m1\u001b[0m\u001b[1;33m)\u001b[0m\u001b[1;33m:\u001b[0m\u001b[1;33m\u001b[0m\u001b[1;33m\u001b[0m\u001b[0m\n",
      "\u001b[1;32m<ipython-input-16-29fe406a1245>\u001b[0m in \u001b[0;36mRestore\u001b[1;34m(R, f, e)\u001b[0m\n\u001b[0;32m     22\u001b[0m             \u001b[0mm\u001b[0m\u001b[1;33m=\u001b[0m\u001b[1;36m2\u001b[0m\u001b[1;33m*\u001b[0m\u001b[0mj\u001b[0m\u001b[1;33m+\u001b[0m\u001b[1;36m1\u001b[0m\u001b[1;33m\u001b[0m\u001b[1;33m\u001b[0m\u001b[0m\n\u001b[0;32m     23\u001b[0m         \u001b[1;32melse\u001b[0m\u001b[1;33m:\u001b[0m\u001b[1;33m\u001b[0m\u001b[1;33m\u001b[0m\u001b[0m\n\u001b[1;32m---> 24\u001b[1;33m             \u001b[0mm\u001b[0m\u001b[1;33m=\u001b[0m\u001b[1;36m2\u001b[0m\u001b[1;33m*\u001b[0m\u001b[0mj\u001b[0m\u001b[1;33m\u001b[0m\u001b[1;33m\u001b[0m\u001b[0m\n\u001b[0m\u001b[0;32m     25\u001b[0m     \u001b[1;32mif\u001b[0m \u001b[0mR\u001b[0m\u001b[1;33m[\u001b[0m\u001b[0mm\u001b[0m\u001b[1;33m]\u001b[0m\u001b[1;33m>\u001b[0m\u001b[0mR\u001b[0m\u001b[1;33m[\u001b[0m\u001b[0mj\u001b[0m\u001b[1;33m]\u001b[0m\u001b[1;33m:\u001b[0m\u001b[1;33m\u001b[0m\u001b[1;33m\u001b[0m\u001b[0m\n\u001b[0;32m     26\u001b[0m         \u001b[0mR\u001b[0m\u001b[1;33m[\u001b[0m\u001b[0mm\u001b[0m\u001b[1;33m]\u001b[0m\u001b[1;33m,\u001b[0m\u001b[0mR\u001b[0m\u001b[1;33m[\u001b[0m\u001b[0mj\u001b[0m\u001b[1;33m]\u001b[0m\u001b[1;33m=\u001b[0m\u001b[0mR\u001b[0m\u001b[1;33m[\u001b[0m\u001b[0mj\u001b[0m\u001b[1;33m]\u001b[0m\u001b[1;33m,\u001b[0m\u001b[0mR\u001b[0m\u001b[1;33m[\u001b[0m\u001b[0mm\u001b[0m\u001b[1;33m]\u001b[0m\u001b[1;33m\u001b[0m\u001b[1;33m\u001b[0m\u001b[0m\n",
      "\u001b[1;31mKeyboardInterrupt\u001b[0m: "
     ]
    }
   ],
   "source": [
    "def heap_sort(alist,n):\n",
    "    \"\"\"堆排序\n",
    "    :param  n是len(alist)\n",
    "    \"\"\"\n",
    "    #初始建堆\n",
    "    for i in range(n//2,1,-1):\n",
    "        Restore(alist,i,n)\n",
    "    #排序\n",
    "    for i in range(n,2,-1):\n",
    "        alist[1],alist[i]=alist[i],alist[1]\n",
    "        Restore(alist,1,i-1)\n",
    "    return alist\n",
    "\n",
    "\n",
    "def Restore(R,f,e):\n",
    "    \"\"\"重建树根为Rf的二叉树\"\"\"\n",
    "    j=f\n",
    "    #建堆\n",
    "    while j<=e//2:\n",
    "#         print('j',j,e)\n",
    "        if 2*j<e and R[2*j]<R[2j+1]:\n",
    "            m=2*j+1\n",
    "        else:\n",
    "            m=2*j\n",
    "    if R[m]>R[j]:\n",
    "        R[m],R[j]=R[j],R[m]\n",
    "        j=m\n",
    "    else:\n",
    "        j=e\n",
    "    return R\n",
    "l1=[27,54,226,93,17,77,31,44,55,20]\n",
    "l2=[27,99,0,8,13,64,86,16,7,10,88,25,90,100]\n",
    "heap_sort(l1,len(l1))     \n"
   ]
  },
  {
   "cell_type": "code",
   "execution_count": 19,
   "metadata": {},
   "outputs": [
    {
     "data": {
      "text/plain": [
       "[17, 20, 27, 31, 44, 54, 55, 77, 93, 226]"
      ]
     },
     "execution_count": 19,
     "metadata": {},
     "output_type": "execute_result"
    }
   ],
   "source": [
    "def heap_sort(lst):\n",
    "    def adjust(start,end):\n",
    "        \"\"\"最大堆调整\"\"\"\n",
    "        root=start\n",
    "        while True:\n",
    "            child=2*root+1\n",
    "            #孩子节点的索引值超过数组的最大长度\n",
    "            if child>end:\n",
    "                break\n",
    "            #确定最大的孩子节点的索引值\n",
    "            if child+1<=end and lst[child]<lst[child+1]:\n",
    "                child+=1\n",
    "            #孩子节点最大值和根节点进行交换\n",
    "            if lst[root]<lst[child]:\n",
    "                lst[root],lst[child]=lst[child],lst[root]\n",
    "                root=child\n",
    "            else:\n",
    "                break\n",
    "    #创建大根堆\n",
    "    for start in range((len(lst)-2)//2,-1,-1):\n",
    "        adjust(start,len(lst)-1)\n",
    "    for end in range(len(lst)-1,0,-1):\n",
    "        #首尾交换\n",
    "        lst[0],lst[end]=lst[end],lst[0]\n",
    "        #重新排序\n",
    "        adjust(0,end-1)\n",
    "    return lst\n",
    "l1=[27,54,226,93,17,77,31,44,55,20]\n",
    "l2=[27,99,0,8,13,64,86,16,7,10,88,25,90,100]\n",
    "heap_sort(l1)    "
   ]
  },
  {
   "cell_type": "markdown",
   "metadata": {},
   "source": [
    "## 基数排序"
   ]
  },
  {
   "cell_type": "code",
   "execution_count": 64,
   "metadata": {},
   "outputs": [
    {
     "data": {
      "text/plain": [
       "[17, 20, 27, 31, 44, 54, 55, 77, 93, 226]"
      ]
     },
     "execution_count": 64,
     "metadata": {},
     "output_type": "execute_result"
    }
   ],
   "source": [
    "def radix_sort(array):\n",
    "    bucket, digit = [[]], 0\n",
    "    while len(bucket[0]) != len(array):\n",
    "        bucket = [[], [], [], [], [], [], [], [], [], []]\n",
    "        for i in range(len(array)):\n",
    "            num = (array[i] // 10 ** digit) % 10\n",
    "            bucket[num].append(array[i])\n",
    "        array.clear()\n",
    "        for i in range(len(bucket)):\n",
    "            array += bucket[i]\n",
    "        digit += 1\n",
    "    return array\n",
    "l1=[27,54,226,93,17,77,31,44,55,20]\n",
    "l2=[27,99,0,8,13,64,86,16,7,10,88,25,90,100]\n",
    "radix_sort(l1)"
   ]
  },
  {
   "cell_type": "markdown",
   "metadata": {},
   "source": [
    "## 计数排序"
   ]
  },
  {
   "cell_type": "markdown",
   "metadata": {},
   "source": [
    "计数排序的核心在于将输入的数据值转化为键存储在额外开辟的数组空间中。作为一种线性时间复杂度的排序，计数排序要求输入的数据必须是有确定范围的整数。"
   ]
  },
  {
   "cell_type": "code",
   "execution_count": 71,
   "metadata": {},
   "outputs": [],
   "source": [
    "def countingSort(arr, maxValue):\n",
    "    bucketLen = maxValue+1\n",
    "    bucket = [0]*bucketLen\n",
    "    sortedIndex =0\n",
    "    arrLen = len(arr)\n",
    "    for i in range(arrLen):\n",
    "        if not bucket[arr[i]]:\n",
    "            bucket[arr[i]]=0\n",
    "        bucket[arr[i]]+=1\n",
    "    for j in range(bucketLen):\n",
    "        while bucket[j]>0:\n",
    "            arr[sortedIndex] = j\n",
    "            sortedIndex+=1\n",
    "            bucket[j]-=1\n",
    "    return arr"
   ]
  },
  {
   "cell_type": "markdown",
   "metadata": {},
   "source": [
    "## 桶排序"
   ]
  },
  {
   "cell_type": "code",
   "execution_count": null,
   "metadata": {},
   "outputs": [],
   "source": []
  },
  {
   "attachments": {
    "_auto_0": {
     "image/png": "[encoded data removed]"
    }
   },
   "cell_type": "markdown",
   "metadata": {},
   "source": [
    "常见排序算法的效率比较\n",
    "![_auto_0](attachment:_auto_0)\n"
   ]
  },
  {
   "cell_type": "markdown",
   "metadata": {},
   "source": [
    "## 查找"
   ]
  },
  {
   "cell_type": "code",
   "execution_count": 35,
   "metadata": {},
   "outputs": [
    {
     "data": {
      "text/plain": [
       "True"
      ]
     },
     "execution_count": 35,
     "metadata": {},
     "output_type": "execute_result"
    }
   ],
   "source": [
    "#递归的方式\n",
    "def binary_search(alist,item):\n",
    "    \"\"\"二分查找\"\"\"\n",
    "    n=len(alist)\n",
    "    if n>0:\n",
    "        mid=n//2\n",
    "        if alist[mid]==item:\n",
    "            return True\n",
    "        elif item <alist[mid]:\n",
    "            return binary_search(alist[:mid],item)\n",
    "        else:\n",
    "            return binary_search(alist[mid+1:],item)\n",
    "    return False\n",
    "l1=[17,20,26,31,44,64,55,77,93,226]\n",
    "l2=[0,7,8,10,13,16,25,27,64,86,88,90,99,100]\n",
    "binary_search(l1,17)\n",
    "    \n",
    "    "
   ]
  },
  {
   "cell_type": "code",
   "execution_count": 36,
   "metadata": {},
   "outputs": [
    {
     "data": {
      "text/plain": [
       "True"
      ]
     },
     "execution_count": 36,
     "metadata": {},
     "output_type": "execute_result"
    }
   ],
   "source": [
    "def binary_searh(alist,item):\n",
    "    \"\"\"二分查找，非递归版本\"\"\"\n",
    "    n=len(alist)\n",
    "    first=0\n",
    "    last=n-1\n",
    "    while first<=last:\n",
    "        mid=(first+last)//2\n",
    "        if alist[mid]==item:\n",
    "            return True\n",
    "        elif item <alist[mid]:\n",
    "            last=mid-1\n",
    "        else:\n",
    "            first=mid+1\n",
    "    return False\n",
    "l1=[17,20,26,31,44,64,55,77,93,226]\n",
    "l2=[0,7,8,10,13,16,25,27,64,86,88,90,99,100]\n",
    "binary_search(l1,17)"
   ]
  },
  {
   "cell_type": "markdown",
   "metadata": {},
   "source": [
    "## 树的概念\n",
    "树的术语：\n",
    "1. 节点的度：一个节点含有的子树的个数称为该节点的度\n",
    "2. 树的度：一棵树中，最大的节点的度称其为树的度\n",
    "3. 叶节点或终端节点：度为零的节点；\n",
    "4. 父亲节点或父节点：若一个节点含有子节点，则这个节点称为其子节点的父节点；\n",
    "5. 孩子节点或子节点：一个节点含有的子树的根节点称为该节点的子节点；\n",
    "6. 兄弟节点：具有相同父节点的节点互称为兄弟节点；\n",
    "7. 节点的层次：从根开始定义起，根为第1层，根的子节点为第2层，以此类推；\n",
    "8. 树的高度或深度：树中节点的最大层次；\n",
    "9. 堂兄弟节点：父节点在同一层的节点互为堂兄弟；\n",
    "10. 节点的祖先：从根到该节点所经分支上的所有节点；\n",
    "11. 子孙：以某节点为根的子树中任一节点都称为该节点的子孙。\n",
    "12. 森林：由m（m>=0）棵互不相交的树的集合称为森林；\n",
    "\n",
    "树的种类\n",
    "\n",
    "+ 无序树：树中任意节点的子节点之间没有顺序关系，这种树称为无序树，也称为自由树；\n",
    "+ 有序树：树中任意节点的子节点之间有顺序关系，这种树称为有序树；\n",
    "  - 二叉树：每个节点最多含有两个子树的树称为二叉树；\n",
    "    - 完全二叉树：对于一颗二叉树，假设其深度为d(d>1)。除了第d层外，其它各层的节点数目均已达最大值，且第d层所有节点从左向右连续地紧密排列，这样的二叉树被称为完全二叉树，其中满二叉树的定义是所有叶节点都在最底层的完全二叉树;\n",
    "    - 平衡二叉树（AVL树）：当且仅当任何节点的两棵子树的高度差不大于1的二叉树；\n",
    "    - 排序二叉树（二叉查找树（英语：Binary Search Tree），也称二叉搜索树、有序二叉树）；\n",
    "+ 霍夫曼树（用于信息编码）：带权路径最短的二叉树称为哈夫曼树或最优二叉树；\n",
    "+ B树：一种对读写操作进行优化的自平衡的二叉查找树，能够保持数据有序，拥有多余两个子树。"
   ]
  },
  {
   "cell_type": "code",
   "execution_count": 59,
   "metadata": {},
   "outputs": [
    {
     "name": "stdout",
     "output_type": "stream",
     "text": [
      "1\n",
      "2\n",
      "3\n",
      "4\n",
      "5\n",
      "先序\n",
      "1 2 4 5 3 \n",
      "中序\n",
      "4 2 5 1 3 \n",
      "后序\n",
      "4 5 2 3 1 "
     ]
    }
   ],
   "source": [
    "#树的实现\n",
    "class Node(object):\n",
    "    \"\"\"树的节点\"\"\"\n",
    "    def __init__(self,item):\n",
    "        self.elem=item\n",
    "        self.lchild=None\n",
    "        self.rchild=None\n",
    "    \n",
    "    \n",
    "class Tree(object):\n",
    "    \"\"\"二叉树\"\"\"\n",
    "    def __init__(self):\n",
    "        self.root=None\n",
    "    def add(self,item):\n",
    "        node=Node(item)\n",
    "        if self.root is None:\n",
    "            self.root=node\n",
    "            return\n",
    "        queue=[self.root]\n",
    "              \n",
    "        while queue:\n",
    "            cur_node=queue.pop(0)\n",
    "            if cur_node.lchild is None:\n",
    "                cur_node.lchild=node\n",
    "                return\n",
    "            else:\n",
    "                queue.append(cur_node.lchild)\n",
    "            if cur_node.rchild is None:\n",
    "                cur_node.rchild=node\n",
    "                return\n",
    "            else:\n",
    "                queue.append(cur_node.rchild)\n",
    "    def breadth_travel(self):\n",
    "        \"\"\"广度遍历,层次遍历\"\"\"\n",
    "        if self.root is None:\n",
    "            return\n",
    "        queue=[self.root]\n",
    "        while queue :\n",
    "            cur_node=queue.pop(0)\n",
    "            print(cur_node.elem)\n",
    "            if cur_node.lchild is not None:\n",
    "                queue.append(cur_node.lchild)\n",
    "            if cur_node.rchild is not None:\n",
    "                queue.append(cur_node.rchild)\n",
    "    def preorder(self,node):\n",
    "        \"\"\"递归实现先序遍历\"\"\"\n",
    "        if node ==None:\n",
    "            return\n",
    "        print(node.elem,end=' ')\n",
    "        self.preorder(node.lchild)\n",
    "        self.preorder(node.rchild)\n",
    "    def ineorder(self,node):\n",
    "        \"\"\"递归实现中序遍历\"\"\"\n",
    "        if node ==None:\n",
    "            return\n",
    "        \n",
    "        self.ineorder(node.lchild)\n",
    "        print(node.elem,end=' ')\n",
    "        self.ineorder(node.rchild)\n",
    "    def postorder(self,node):\n",
    "        \"\"\"递归实现后序遍历\"\"\"\n",
    "        if node ==None:\n",
    "            return\n",
    "        \n",
    "        self.postorder(node.lchild)\n",
    "#         print(root.elem)\n",
    "        self.postorder(node.rchild)\n",
    "        print (node.elem,end=' ')\n",
    "                \n",
    "tree=Tree()\n",
    "tree.add(1)\n",
    "tree.add(2)\n",
    "tree.add(3)\n",
    "tree.add(4)\n",
    "tree.add(5)\n",
    "tree.breadth_travel()\n",
    "print('先序:')\n",
    "tree.preorder(tree.root)\n",
    "print('\\n中序:')\n",
    "tree.ineorder(tree.root)\n",
    "print('\\n后序:')\n",
    "tree.postorder(tree.root)"
   ]
  },
  {
   "cell_type": "code",
   "execution_count": null,
   "metadata": {},
   "outputs": [],
   "source": []
  }
 ],
 "metadata": {
  "kernelspec": {
   "display_name": "Python 3",
   "language": "python",
   "name": "python3"
  },
  "language_info": {
   "codemirror_mode": {
    "name": "ipython",
    "version": 3
   },
   "file_extension": ".py",
   "mimetype": "text/x-python",
   "name": "python",
   "nbconvert_exporter": "python",
   "pygments_lexer": "ipython3",
   "version": "3.7.1"
  },
  "toc": {
   "base_numbering": 1,
   "nav_menu": {},
   "number_sections": true,
   "sideBar": true,
   "skip_h1_title": false,
   "title_cell": "Table of Contents",
   "title_sidebar": "Contents",
   "toc_cell": false,
   "toc_position": {
    "height": "calc(100% - 180px)",
    "left": "10px",
    "top": "150px",
    "width": "208.442px"
   },
   "toc_section_display": true,
   "toc_window_display": true
  }
 },
 "nbformat": 4,
 "nbformat_minor": 2
}
